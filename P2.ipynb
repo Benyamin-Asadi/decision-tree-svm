{
 "cells": [
  {
   "cell_type": "code",
   "execution_count": 22,
   "metadata": {},
   "outputs": [],
   "source": [
    "from keras.datasets import mnist\n",
    "import numpy as np\n",
    "import tensorflow as tf\n",
    "import matplotlib.pyplot as plt\n",
    "from skimage import feature, exposure\n",
    "from sklearn.decomposition import PCA\n",
    "from sklearn.datasets import load_iris\n",
    "from sklearn.model_selection import train_test_split\n",
    "from sklearn.linear_model import LogisticRegression\n",
    "from sklearn.metrics import accuracy_score\n",
    "from sklearn.preprocessing import StandardScaler\n"
   ]
  },
  {
   "cell_type": "markdown",
   "metadata": {},
   "source": [
    "Phase 1"
   ]
  },
  {
   "cell_type": "code",
   "execution_count": 13,
   "metadata": {},
   "outputs": [
    {
     "name": "stdout",
     "output_type": "stream",
     "text": [
      "Training data shape: (60000, 28, 28)\n",
      "Training labels shape: (60000,)\n",
      "Test data shape: (10000, 28, 28)\n",
      "Test labels shape: (10000,)\n",
      "Combined data shape: (70000, 28, 28)\n",
      "Combined labels shape: (70000,)\n"
     ]
    }
   ],
   "source": [
    "# Specify the path to your mnist.npz file\n",
    "file_path = 'mnist.npz'\n",
    "\n",
    "# Load the dataset\n",
    "with np.load(file_path) as data:\n",
    "    x_train = data['x_train']\n",
    "    y_train = data['y_train']\n",
    "    x_test = data['x_test']\n",
    "    y_test = data['y_test']\n",
    "\n",
    "# Check the shapes of the loaded data\n",
    "print(\"Training data shape:\", x_train.shape)  # Should output (60000, 28, 28)\n",
    "print(\"Training labels shape:\", y_train.shape)  # Should output (60000,)\n",
    "print(\"Test data shape:\", x_test.shape)   # Should output (10000, 28, 28)\n",
    "print(\"Test labels shape:\", y_test.shape)   # Should output (10000,)\n",
    "\n",
    "\n",
    "x_combined = np.concatenate((x_train, x_test), axis=0)\n",
    "y_combined = np.concatenate((y_train, y_test), axis=0)\n",
    "\n",
    "print(\"Combined data shape:\", x_combined.shape)  \n",
    "print(\"Combined labels shape:\", y_combined.shape)"
   ]
  },
  {
   "cell_type": "code",
   "execution_count": 3,
   "metadata": {},
   "outputs": [],
   "source": [
    "def convolution2d(image, kernel):\n",
    "    # Get the dimensions of the image and kernel\n",
    "    image_height, image_width = image.shape\n",
    "    kernel_height, kernel_width = kernel.shape\n",
    "    \n",
    "    # Calculate output dimensions\n",
    "    output_height = image_height - kernel_height + 1\n",
    "    output_width = image_width - kernel_width + 1\n",
    "    \n",
    "    # Create an output array with the calculated dimensions\n",
    "    output = np.zeros((output_height, output_width))\n",
    "    \n",
    "    # Perform convolution operation\n",
    "    for i in range(output_height):\n",
    "        for j in range(output_width):\n",
    "            # Multiply the current section of the image by the kernel and sum it up\n",
    "            output[i, j] = np.sum(image[i:i+kernel_height, j:j+kernel_width] * kernel)\n",
    "    \n",
    "    return output"
   ]
  },
  {
   "cell_type": "markdown",
   "metadata": {},
   "source": [
    "0 Padding"
   ]
  },
  {
   "cell_type": "code",
   "execution_count": 4,
   "metadata": {},
   "outputs": [],
   "source": [
    "pad_width = 1\n",
    "\n",
    "# padded_x_test = np.array([])\n",
    "padded_x_test = np.empty((10000, 30, 30),  dtype=int)\n",
    "padded_x_train = np.empty((60000, 30, 30),  dtype=int)\n",
    "\n",
    "\n",
    "for i in range(10000):\n",
    "    original_image = x_test[i]\n",
    "    padded_image = np.pad(original_image, pad_width=pad_width, mode='constant', constant_values=0)\n",
    "    padded_x_test[i] = padded_image\n",
    "\n",
    "for i in range(60000):\n",
    "    original_image = x_train[i]\n",
    "    padded_image = np.pad(original_image, pad_width=pad_width, mode='constant', constant_values=0)\n",
    "    padded_x_train[i] = padded_image\n"
   ]
  },
  {
   "cell_type": "markdown",
   "metadata": {},
   "source": [
    "Sobel 1"
   ]
  },
  {
   "cell_type": "code",
   "execution_count": 78,
   "metadata": {},
   "outputs": [],
   "source": [
    "kernel = np.empty((3, 3), dtype=int)\n",
    "\n",
    "# Correctly assign a 2D array to the first slice of the kernel\n",
    "kernel = np.array([[1, 0, -1],\n",
    "                   [2, 0, -2],\n",
    "                   [1, 0, -1]])\n",
    "\n",
    "# padded_x_test = np.array([])\n",
    "sobel1_x_test = np.empty((10000, 28, 28),  dtype=int)\n",
    "sobel1_x_train = np.empty((60000, 28, 28),  dtype=int)\n",
    "\n",
    "\n",
    "for i in range(10000):\n",
    "    original_image = padded_x_test[i]\n",
    "    temp = convolution2d(original_image, kernel)\n",
    "    sobel1_x_test[i] = temp\n",
    "\n",
    "for i in range(60000):\n",
    "    original_image = padded_x_train[i]\n",
    "    temp = convolution2d(original_image, kernel)\n",
    "    sobel1_x_train[i] = temp\n"
   ]
  },
  {
   "cell_type": "markdown",
   "metadata": {},
   "source": [
    "Sobel2\n"
   ]
  },
  {
   "cell_type": "code",
   "execution_count": 80,
   "metadata": {},
   "outputs": [],
   "source": [
    "kernel = np.empty((3, 3), dtype=int)\n",
    "\n",
    "# Correctly assign a 2D array to the first slice of the kernel\n",
    "kernel = np.array([[1, 2, 1],\n",
    "                   [0, 0, 0],\n",
    "                   [-1, -2, -1]])\n",
    "\n",
    "# padded_x_test = np.array([])\n",
    "sobel2_x_test = np.empty((10000, 28, 28),  dtype=int)\n",
    "sobel2_x_train = np.empty((60000, 28, 28),  dtype=int)\n",
    "\n",
    "\n",
    "for i in range(10000):\n",
    "    original_image = padded_x_test[i]\n",
    "    temp = convolution2d(original_image, kernel)\n",
    "    sobel2_x_test[i] = temp\n",
    "\n",
    "for i in range(60000):\n",
    "    original_image = padded_x_train[i]\n",
    "    temp = convolution2d(original_image, kernel)\n",
    "    sobel2_x_train[i] = temp"
   ]
  },
  {
   "cell_type": "markdown",
   "metadata": {},
   "source": [
    "Sobel final"
   ]
  },
  {
   "cell_type": "code",
   "execution_count": 100,
   "metadata": {},
   "outputs": [
    {
     "name": "stdout",
     "output_type": "stream",
     "text": [
      "(60000, 28, 28)\n",
      "(10000, 28, 28)\n"
     ]
    }
   ],
   "source": [
    "x = sobel1_x_test\n",
    "y = sobel2_x_test\n",
    "sobel_x_test = np.sqrt(x**2 + y**2)\n",
    "\n",
    "x = sobel1_x_train\n",
    "y = sobel2_x_train\n",
    "sobel_x_train = np.sqrt(x**2 + y**2)\n",
    "\n",
    "print(sobel_x_train.shape)\n",
    "print(sobel_x_test.shape)\n",
    "# print(sobel_x_train[50000])"
   ]
  },
  {
   "cell_type": "markdown",
   "metadata": {},
   "source": [
    "Sobel normalization"
   ]
  },
  {
   "cell_type": "code",
   "execution_count": 102,
   "metadata": {},
   "outputs": [
    {
     "name": "stdout",
     "output_type": "stream",
     "text": [
      "Shape of the scaled result: (10000, 28, 28)\n",
      "Min value in scaled result: 0\n",
      "Max value in scaled result: 255\n"
     ]
    }
   ],
   "source": [
    "result_min = sobel_x_test.min()\n",
    "result_max = sobel_x_test.max()\n",
    "if result_max - result_min > 0:\n",
    "    normalized_result = (sobel_x_test - result_min) / (result_max - result_min)\n",
    "else:\n",
    "    normalized_result = np.zeros_like(sobel_x_test)  # All values are the same\n",
    "\n",
    "# Step 2: Scale to [0, 255]\n",
    "sobel_x_test_final = normalized_result * 255\n",
    "\n",
    "# Step 3: Convert to int\n",
    "sobel_x_test_final = sobel_x_test_final.astype(int)\n",
    "print(\"Shape of the scaled result:\", sobel_x_test_final.shape)\n",
    "print(\"Min value in scaled result:\", sobel_x_test_final.min())\n",
    "print(\"Max value in scaled result:\", sobel_x_test_final.max())\n",
    "# print(scaled_result[400])"
   ]
  },
  {
   "cell_type": "code",
   "execution_count": 109,
   "metadata": {},
   "outputs": [
    {
     "name": "stdout",
     "output_type": "stream",
     "text": [
      "Shape of the scaled result: (60000, 28, 28)\n",
      "Min value in scaled result: 0\n",
      "Max value in scaled result: 255\n"
     ]
    }
   ],
   "source": [
    "result_min = sobel_x_train.min()\n",
    "result_max = sobel_x_train.max()\n",
    "if result_max - result_min > 0:\n",
    "    normalized_result = (sobel_x_train - result_min) / (result_max - result_min)\n",
    "else:\n",
    "    normalized_result = np.zeros_like(sobel_x_train)  # All values are the same\n",
    "\n",
    "# Step 2: Scale to [0, 255]\n",
    "sobel_x_train_final = normalized_result * 255\n",
    "\n",
    "# Step 3: Convert to int\n",
    "sobel_x_train_final = sobel_x_train_final.astype(int)\n",
    "print(\"Shape of the scaled result:\", sobel_x_train_final.shape)\n",
    "print(\"Min value in scaled result:\", sobel_x_train_final.min())\n",
    "print(\"Max value in scaled result:\", sobel_x_train_final.max())\n"
   ]
  },
  {
   "cell_type": "markdown",
   "metadata": {},
   "source": [
    "Save Sobel"
   ]
  },
  {
   "cell_type": "code",
   "execution_count": null,
   "metadata": {},
   "outputs": [],
   "source": [
    "\n",
    "np.save('sobel_x_train_final.npy', sobel_x_train_final)\n",
    "np.save('sobel_x_test_final.npy', sobel_x_test_final)\n",
    "\n"
   ]
  },
  {
   "cell_type": "markdown",
   "metadata": {},
   "source": [
    "Load Sobel\n"
   ]
  },
  {
   "cell_type": "code",
   "execution_count": 5,
   "metadata": {},
   "outputs": [],
   "source": [
    "sobel_x_train_final = np.load('sobel_x_train_final.npy')\n",
    "\n",
    "sobel_x_test_final = np.load('sobel_x_test_final.npy')"
   ]
  },
  {
   "cell_type": "markdown",
   "metadata": {},
   "source": [
    "HOG"
   ]
  },
  {
   "cell_type": "code",
   "execution_count": 59,
   "metadata": {},
   "outputs": [
    {
     "name": "stdout",
     "output_type": "stream",
     "text": [
      "(10000, 928)\n",
      "(60000, 928)\n"
     ]
    }
   ],
   "source": [
    "orientations = 9\n",
    "pixels_per_cell = (8,8)  # Set to (4, 4) for better feature extraction on small images\n",
    "cells_per_block = (2, 2)   # Set to (2, 2) for normalization\n",
    "\n",
    "\n",
    "HOG_test = np.empty((10000, 28, 28))\n",
    "HOG_test_f = np.empty((10000, 144))\n",
    "\n",
    "HOG_train = np.empty((60000, 28, 28))\n",
    "HOG_train_f = np.empty((60000, 144))\n",
    "\n",
    "combined_features_list = []\n",
    "\n",
    "\n",
    "for i in range(10000):\n",
    "    original_image = x_test[i]\n",
    "    hog_features, hog_image = feature.hog(original_image, orientations=orientations,\n",
    "                                       pixels_per_cell=pixels_per_cell,\n",
    "                                       cells_per_block=cells_per_block,\n",
    "                                       visualize=True, feature_vector=True)\n",
    "    HOG_test[i] = hog_image\n",
    "    HOG_test_f[i] = hog_features\n",
    "    combined_features = np.concatenate((sobel_x_test_final[i].flatten(), hog_features))\n",
    "    combined_features_list.append(combined_features)\n",
    "    \n",
    "\n",
    "HOG_sobel_test = np.array(combined_features_list)\n",
    "\n",
    "combined_features_list = []\n",
    "\n",
    "for i in range(60000):\n",
    "    original_image = x_train[i]\n",
    "    hog_features, hog_image = feature.hog(original_image, orientations=orientations,\n",
    "                                       pixels_per_cell=pixels_per_cell,\n",
    "                                       cells_per_block=cells_per_block,\n",
    "                                       visualize=True, feature_vector=True)\n",
    "    HOG_train[i] = hog_image\n",
    "    HOG_train_f[i] = hog_features\n",
    "    combined_features = np.concatenate((sobel_x_train_final[i].flatten(), hog_features))\n",
    "    combined_features_list.append(combined_features)\n",
    "    \n",
    "\n",
    "HOG_sobel_train = np.array(combined_features_list)\n",
    "print(HOG_sobel_test.shape)\n",
    "print(HOG_sobel_train.shape)"
   ]
  },
  {
   "cell_type": "markdown",
   "metadata": {},
   "source": [
    "save HOG"
   ]
  },
  {
   "cell_type": "code",
   "execution_count": 61,
   "metadata": {},
   "outputs": [],
   "source": [
    "np.save('HOG_train.npy', HOG_train)\n",
    "np.save('HOG_train_f.npy', HOG_train_f)\n",
    "\n",
    "np.save('HOG_test.npy', HOG_test)\n",
    "np.save('HOG_test_f.npy', HOG_test_f)\n",
    "\n",
    "np.save('HOG_sobel_test.npy', HOG_sobel_test)\n",
    "np.save('HOG_sobel_train.npy', HOG_sobel_train)"
   ]
  },
  {
   "cell_type": "markdown",
   "metadata": {},
   "source": [
    "Load HOG"
   ]
  },
  {
   "cell_type": "code",
   "execution_count": 6,
   "metadata": {},
   "outputs": [],
   "source": [
    "HOG_test = np.load('HOG_test.npy')\n",
    "HOG_test_f = np.load('HOG_test_f.npy')\n",
    "\n",
    "HOG_train = np.load('HOG_train.npy')\n",
    "HOG_train_f = np.load('HOG_train_f.npy')\n",
    "\n",
    "HOG_sobel_test = np.load('HOG_sobel_test.npy')\n",
    "HOG_sobel_train = np.load('HOG_sobel_train.npy')"
   ]
  },
  {
   "cell_type": "markdown",
   "metadata": {},
   "source": [
    "Laplacian filter (Optional filter)"
   ]
  },
  {
   "cell_type": "code",
   "execution_count": 214,
   "metadata": {},
   "outputs": [],
   "source": [
    "kernel = np.empty((3, 3), dtype=int)\n",
    "\n",
    "# Correctly assign a 2D array to the first slice of the kernel\n",
    "kernel = np.array([[0, 1, 0],\n",
    "                   [1, -4, 1],\n",
    "                   [0, 1, 0]])\n",
    "\n",
    "# padded_x_test = np.array([])\n",
    "Laplacian_test = np.empty((10000, 28, 28),  dtype=int)\n",
    "Laplacian_train = np.empty((60000, 28, 28),  dtype=int)\n",
    "\n",
    "\n",
    "for i in range(10000):\n",
    "    original_image = padded_x_test[i]\n",
    "    temp = convolution2d(original_image, kernel)\n",
    "    Laplacian_test[i] = temp\n",
    "\n",
    "for i in range(60000):\n",
    "    original_image = padded_x_train[i]\n",
    "    temp = convolution2d(original_image, kernel)\n",
    "    Laplacian_train[i] = temp"
   ]
  },
  {
   "cell_type": "markdown",
   "metadata": {},
   "source": [
    "Save Laplacian"
   ]
  },
  {
   "cell_type": "code",
   "execution_count": 218,
   "metadata": {},
   "outputs": [],
   "source": [
    "np.save('Laplacian_test.npy', Laplacian_test)\n",
    "np.save('Laplacian_train.npy', Laplacian_train)"
   ]
  },
  {
   "cell_type": "markdown",
   "metadata": {},
   "source": [
    "Load Laplacian"
   ]
  },
  {
   "cell_type": "code",
   "execution_count": 7,
   "metadata": {},
   "outputs": [],
   "source": [
    "Laplacian_test = np.load('Laplacian_test.npy')\n",
    "Laplacian_train = np.load('Laplacian_train.npy')"
   ]
  },
  {
   "cell_type": "code",
   "execution_count": 8,
   "metadata": {},
   "outputs": [
    {
     "data": {
      "image/png": "[encoded data removed]",
      "text/plain": [
       "<Figure size 1080x1080 with 20 Axes>"
      ]
     },
     "metadata": {
      "needs_background": "light"
     },
     "output_type": "display_data"
    }
   ],
   "source": [
    "groups = 5\n",
    "images_per_group = 4\n",
    "image_height = 28\n",
    "image_width = 28\n",
    "\n",
    "\n",
    "# Create subplots\n",
    "fig, axes = plt.subplots(groups, images_per_group, figsize=(15, 15))\n",
    "\n",
    "# Plot each image in the corresponding subplot\n",
    "for g in range(groups):\n",
    "    axes[g, 0].imshow(x_test[g], cmap='gray')\n",
    "    axes[g, 0].axis('off')\n",
    "\n",
    "    axes[g, 1].imshow(sobel_x_test_final[g], cmap='gray')\n",
    "    axes[g, 1].axis('off')\n",
    "\n",
    "    axes[g, 2].imshow(HOG_test[g], cmap='gray')\n",
    "    axes[g, 2].axis('off')\n",
    "\n",
    "    axes[g, 3].imshow(Laplacian_test[g], cmap='gray')\n",
    "    axes[g, 3].axis('off')\n",
    "\n",
    "# Adjust layout for better spacing\n",
    "plt.tight_layout()\n",
    "plt.show()"
   ]
  },
  {
   "cell_type": "markdown",
   "metadata": {},
   "source": [
    "Phase 2"
   ]
  },
  {
   "cell_type": "code",
   "execution_count": 14,
   "metadata": {},
   "outputs": [
    {
     "name": "stdout",
     "output_type": "stream",
     "text": [
      "Average Image Shape: (28, 28)\n"
     ]
    },
    {
     "data": {
      "image/png": "[encoded data removed]",
      "text/plain": [
       "<Figure size 432x288 with 1 Axes>"
      ]
     },
     "metadata": {
      "needs_background": "light"
     },
     "output_type": "display_data"
    }
   ],
   "source": [
    "\n",
    "average_image = np.mean(x_combined, axis=0)\n",
    "\n",
    "# average_image will have the shape (28, 28)\n",
    "print(\"Average Image Shape:\", average_image.shape)\n",
    "\n",
    "\n",
    "\n",
    "plt.imshow(average_image, cmap='gray')\n",
    "plt.title('Average Image')\n",
    "plt.axis('off')  # Hide axis\n",
    "plt.show()"
   ]
  },
  {
   "cell_type": "code",
   "execution_count": 21,
   "metadata": {},
   "outputs": [
    {
     "data": {
      "image/png": "[encoded data removed]",
      "text/plain": [
       "<Figure size 1152x288 with 4 Axes>"
      ]
     },
     "metadata": {
      "needs_background": "light"
     },
     "output_type": "display_data"
    }
   ],
   "source": [
    "x_test_minus_mean = x_test - average_image\n",
    "x_train_minus_mean = x_train - average_image\n",
    "centered_images = x_combined - average_image\n",
    "\n",
    "\n",
    "plt.figure(figsize=(16, 4))\n",
    "\n",
    "plt.subplot(1, 4, 1)\n",
    "plt.imshow(x_test_minus_mean[0], cmap='gray')\n",
    "plt.title('x_test_minus_mean[0]')\n",
    "plt.axis('off')\n",
    "\n",
    "plt.subplot(1, 4, 2)\n",
    "plt.imshow(x_test_minus_mean[1], cmap='gray')\n",
    "plt.title('x_test_minus_mean[1]')\n",
    "plt.axis('off')\n",
    "\n",
    "plt.subplot(1, 4, 3)\n",
    "plt.imshow(x_train_minus_mean[0], cmap='gray')\n",
    "plt.title('x_train_minus_mean[0]')\n",
    "plt.axis('off')\n",
    "\n",
    "plt.subplot(1, 4, 4)\n",
    "plt.imshow(x_train_minus_mean[1], cmap='gray')\n",
    "plt.title('x_train_minus_mean[1]')\n",
    "plt.axis('off')\n",
    "\n",
    "\n",
    "plt.show()"
   ]
  },
  {
   "cell_type": "code",
   "execution_count": 37,
   "metadata": {},
   "outputs": [
    {
     "data": {
      "image/png": "[encoded data removed]",
      "text/plain": [
       "<Figure size 720x432 with 1 Axes>"
      ]
     },
     "metadata": {
      "needs_background": "light"
     },
     "output_type": "display_data"
    },
    {
     "name": "stdout",
     "output_type": "stream",
     "text": [
      "The best number of components for at least 80% explained variance is: 43\n"
     ]
    }
   ],
   "source": [
    "reshaped_images = centered_images.reshape(centered_images.shape[0], -1)\n",
    "\n",
    "# Perform PCA with a maximum of 100 components\n",
    "max_components = 100\n",
    "pca = PCA(n_components=max_components)\n",
    "pca.fit(reshaped_images)\n",
    "\n",
    "# Calculate cumulative explained variance\n",
    "cumulative_variance = np.cumsum(pca.explained_variance_ratio_)\n",
    "\n",
    "# Plotting the cumulative explained variance\n",
    "plt.figure(figsize=(10, 6))\n",
    "plt.plot(range(1, max_components + 1), cumulative_variance, marker='o', linestyle='--')\n",
    "plt.title('Cumulative Explained Variance by PCA Components (0 to 100)')\n",
    "plt.xlabel('Number of Components')\n",
    "plt.ylabel('Cumulative Explained Variance')\n",
    "plt.grid()\n",
    "plt.xlim(0, max_components)\n",
    "plt.ylim(0, 1)\n",
    "plt.axhline(y=0.80, color='r', linestyle='--')  # Threshold at 80%\n",
    "plt.text(max_components - 10, 0.81, '80% Threshold', color='red')\n",
    "plt.show()\n",
    "\n",
    "# Find the best number of components for at least 80% explained variance\n",
    "best_n_components = np.argmax(cumulative_variance >= 0.80) + 1  # +1 because index starts at 0\n",
    "\n",
    "print(f\"The best number of components for at least 80% explained variance is: {best_n_components}\")"
   ]
  },
  {
   "cell_type": "code",
   "execution_count": 38,
   "metadata": {},
   "outputs": [],
   "source": [
    "reshaped_images = x_combined.reshape(x_combined.shape[0], -1)\n",
    "# print(reshaped_images.shape)\n",
    "\n",
    "# Standardize the data\n",
    "# scaler = StandardScaler()\n",
    "# scaled_images = scaler.fit_transform(reshaped_images)\n",
    "\n",
    "# Perform PCA with n_components = 43\n",
    "n_components = best_n_components\n",
    "pca = PCA(n_components=n_components)\n",
    "pca.fit(reshaped_images)\n",
    "\n",
    "# Transform the data to the new PCA space\n",
    "pca_transformed = pca.transform(reshaped_images)\n",
    "\n",
    "# # Print explained variance for each component\n",
    "# explained_variance = pca.explained_variance_ratio_\n",
    "# print(f\"Explained Variance Ratios for {n_components} components:\")\n",
    "# print(explained_variance)\n",
    "\n",
    "# Cumulative explained variance\n",
    "# cumulative_variance = np.cumsum(explained_variance)\n",
    "\n",
    "# # Plotting the explained variance for each component\n",
    "# plt.figure(figsize=(10, 6))\n",
    "# plt.bar(range(1, n_components + 1), explained_variance, alpha=0.7, color='b', label='Individual Explained Variance')\n",
    "# plt.plot(range(1, n_components + 1), cumulative_variance, marker='o', linestyle='--', color='r', label='Cumulative Explained Variance')\n",
    "# plt.title('Explained Variance by PCA Components (n_components = 43)')\n",
    "# plt.xlabel('Number of Components')\n",
    "# plt.ylabel('Explained Variance Ratio')\n",
    "# plt.xticks(range(1, n_components + 1))\n",
    "# plt.legend()\n",
    "# plt.grid()\n",
    "# plt.show()\n",
    "\n",
    "# # Optionally visualize the first two principal components if desired\n",
    "# plt.figure(figsize=(8, 6))\n",
    "# plt.scatter(pca_transformed[:, 0], pca_transformed[:, 1], alpha=0.5)\n",
    "# plt.title('PCA: First Two Principal Components')\n",
    "# plt.xlabel('Principal Component 1')\n",
    "# plt.ylabel('Principal Component 2')\n",
    "# plt.grid()\n",
    "# plt.show()"
   ]
  },
  {
   "cell_type": "code",
   "execution_count": null,
   "metadata": {},
   "outputs": [],
   "source": []
  },
  {
   "cell_type": "code",
   "execution_count": 209,
   "metadata": {},
   "outputs": [
    {
     "name": "stdout",
     "output_type": "stream",
     "text": [
      "(28, 28)\n"
     ]
    },
    {
     "data": {
      "image/png": "[encoded data removed]",
      "text/plain": [
       "<Figure size 720x360 with 2 Axes>"
      ]
     },
     "metadata": {
      "needs_background": "light"
     },
     "output_type": "display_data"
    }
   ],
   "source": [
    "image = x_test[986]\n",
    "\n",
    "orientations = 9\n",
    "pixels_per_cell = (4, 4)\n",
    "cells_per_block = (2, 2)\n",
    "\n",
    "hog_features, hog_image = feature.hog(image, orientations=orientations,\n",
    "                                       pixels_per_cell=pixels_per_cell,\n",
    "                                       cells_per_block=cells_per_block,\n",
    "                                       visualize=True, feature_vector=False)\n",
    "\n",
    "\n",
    "hog_image_rescaled = exposure.rescale_intensity(hog_image, in_range=(0, 10))\n",
    "\n",
    "\n",
    "# print(hog_features)\n",
    "print(hog_image.shape)\n",
    "# Step 4: Plotting the results\n",
    "plt.figure(figsize=(10, 5))\n",
    "\n",
    "plt.subplot(1, 2, 1)\n",
    "plt.title('Original Image')\n",
    "plt.imshow(image, cmap='gray')\n",
    "plt.axis('off')\n",
    "\n",
    "plt.subplot(1, 2, 2)\n",
    "plt.title('HOG Features Visualization')\n",
    "plt.imshow(HOG_train[59999], cmap='gray')\n",
    "plt.axis('off')\n",
    "\n",
    "plt.show()"
   ]
  },
  {
   "cell_type": "code",
   "execution_count": null,
   "metadata": {},
   "outputs": [
    {
     "ename": "ModuleNotFoundError",
     "evalue": "The requested file is part of the scikit-image distribution, but requires the installation of an optional dependency, pooch. To install pooch, use your preferred python package manager. Follow installation instruction found at https://scikit-image.org/docs/stable/user_guide/install.html",
     "output_type": "error",
     "traceback": [
      "\u001b[1;31m---------------------------------------------------------------------------\u001b[0m",
      "\u001b[1;31mModuleNotFoundError\u001b[0m                       Traceback (most recent call last)",
      "Input \u001b[1;32mIn [172]\u001b[0m, in \u001b[0;36m<module>\u001b[1;34m\u001b[0m\n\u001b[0;32m      3\u001b[0m \u001b[38;5;28;01mfrom\u001b[39;00m \u001b[38;5;21;01mskimage\u001b[39;00m\u001b[38;5;21;01m.\u001b[39;00m\u001b[38;5;21;01mfeature\u001b[39;00m \u001b[38;5;28;01mimport\u001b[39;00m hog\n\u001b[0;32m      4\u001b[0m \u001b[38;5;28;01mfrom\u001b[39;00m \u001b[38;5;21;01mskimage\u001b[39;00m \u001b[38;5;28;01mimport\u001b[39;00m data, exposure\n\u001b[1;32m----> 7\u001b[0m image \u001b[38;5;241m=\u001b[39m \u001b[43mdata\u001b[49m\u001b[38;5;241;43m.\u001b[39;49m\u001b[43mkidney\u001b[49m\u001b[43m(\u001b[49m\u001b[43m)\u001b[49m\n\u001b[0;32m      9\u001b[0m fd, hog_image \u001b[38;5;241m=\u001b[39m hog(\n\u001b[0;32m     10\u001b[0m     image,\n\u001b[0;32m     11\u001b[0m     orientations\u001b[38;5;241m=\u001b[39m\u001b[38;5;241m8\u001b[39m,\n\u001b[1;32m   (...)\u001b[0m\n\u001b[0;32m     15\u001b[0m     channel_axis\u001b[38;5;241m=\u001b[39m\u001b[38;5;241m-\u001b[39m\u001b[38;5;241m1\u001b[39m,\n\u001b[0;32m     16\u001b[0m )\n\u001b[0;32m     18\u001b[0m fig, (ax1, ax2) \u001b[38;5;241m=\u001b[39m plt\u001b[38;5;241m.\u001b[39msubplots(\u001b[38;5;241m1\u001b[39m, \u001b[38;5;241m2\u001b[39m, figsize\u001b[38;5;241m=\u001b[39m(\u001b[38;5;241m8\u001b[39m, \u001b[38;5;241m4\u001b[39m), sharex\u001b[38;5;241m=\u001b[39m\u001b[38;5;28;01mTrue\u001b[39;00m, sharey\u001b[38;5;241m=\u001b[39m\u001b[38;5;28;01mTrue\u001b[39;00m)\n",
      "File \u001b[1;32m~\\AppData\\Roaming\\Python\\Python310\\site-packages\\skimage\\data\\_fetchers.py:743\u001b[0m, in \u001b[0;36mkidney\u001b[1;34m()\u001b[0m\n\u001b[0;32m    721\u001b[0m \u001b[38;5;28;01mdef\u001b[39;00m \u001b[38;5;21mkidney\u001b[39m():\n\u001b[0;32m    722\u001b[0m \u001b[38;5;250m    \u001b[39m\u001b[38;5;124;03m\"\"\"Mouse kidney tissue.\u001b[39;00m\n\u001b[0;32m    723\u001b[0m \n\u001b[0;32m    724\u001b[0m \u001b[38;5;124;03m    This biological tissue on a pre-prepared slide was imaged with confocal\u001b[39;00m\n\u001b[1;32m   (...)\u001b[0m\n\u001b[0;32m    741\u001b[0m \u001b[38;5;124;03m        Kidney 3D multichannel image.\u001b[39;00m\n\u001b[0;32m    742\u001b[0m \u001b[38;5;124;03m    \"\"\"\u001b[39;00m\n\u001b[1;32m--> 743\u001b[0m     \u001b[38;5;28;01mreturn\u001b[39;00m \u001b[43m_load\u001b[49m\u001b[43m(\u001b[49m\u001b[38;5;124;43m\"\u001b[39;49m\u001b[38;5;124;43mdata/kidney.tif\u001b[39;49m\u001b[38;5;124;43m\"\u001b[39;49m\u001b[43m)\u001b[49m\n",
      "File \u001b[1;32m~\\AppData\\Roaming\\Python\\Python310\\site-packages\\skimage\\data\\_fetchers.py:336\u001b[0m, in \u001b[0;36m_load\u001b[1;34m(f, as_gray)\u001b[0m\n\u001b[0;32m    332\u001b[0m \u001b[38;5;66;03m# importing io is quite slow since it scans all the backends\u001b[39;00m\n\u001b[0;32m    333\u001b[0m \u001b[38;5;66;03m# we lazy import it here\u001b[39;00m\n\u001b[0;32m    334\u001b[0m \u001b[38;5;28;01mfrom\u001b[39;00m \u001b[38;5;21;01m.\u001b[39;00m\u001b[38;5;21;01m.\u001b[39;00m\u001b[38;5;21;01mio\u001b[39;00m \u001b[38;5;28;01mimport\u001b[39;00m imread\n\u001b[1;32m--> 336\u001b[0m \u001b[38;5;28;01mreturn\u001b[39;00m imread(\u001b[43m_fetch\u001b[49m\u001b[43m(\u001b[49m\u001b[43mf\u001b[49m\u001b[43m)\u001b[49m, as_gray\u001b[38;5;241m=\u001b[39mas_gray)\n",
      "File \u001b[1;32m~\\AppData\\Roaming\\Python\\Python310\\site-packages\\skimage\\data\\_fetchers.py:218\u001b[0m, in \u001b[0;36m_fetch\u001b[1;34m(data_filename)\u001b[0m\n\u001b[0;32m    216\u001b[0m \u001b[38;5;28;01mif\u001b[39;00m _image_fetcher \u001b[38;5;129;01mis\u001b[39;00m \u001b[38;5;28;01mNone\u001b[39;00m:\n\u001b[0;32m    217\u001b[0m     _skip_pytest_case_requiring_pooch(data_filename)\n\u001b[1;32m--> 218\u001b[0m     \u001b[38;5;28;01mraise\u001b[39;00m \u001b[38;5;167;01mModuleNotFoundError\u001b[39;00m(\n\u001b[0;32m    219\u001b[0m         \u001b[38;5;124m\"\u001b[39m\u001b[38;5;124mThe requested file is part of the scikit-image distribution, \u001b[39m\u001b[38;5;124m\"\u001b[39m\n\u001b[0;32m    220\u001b[0m         \u001b[38;5;124m\"\u001b[39m\u001b[38;5;124mbut requires the installation of an optional dependency, pooch. \u001b[39m\u001b[38;5;124m\"\u001b[39m\n\u001b[0;32m    221\u001b[0m         \u001b[38;5;124m\"\u001b[39m\u001b[38;5;124mTo install pooch, use your preferred python package manager. \u001b[39m\u001b[38;5;124m\"\u001b[39m\n\u001b[0;32m    222\u001b[0m         \u001b[38;5;124m\"\u001b[39m\u001b[38;5;124mFollow installation instruction found at \u001b[39m\u001b[38;5;124m\"\u001b[39m\n\u001b[0;32m    223\u001b[0m         \u001b[38;5;124m\"\u001b[39m\u001b[38;5;124mhttps://scikit-image.org/docs/stable/user_guide/install.html\u001b[39m\u001b[38;5;124m\"\u001b[39m\n\u001b[0;32m    224\u001b[0m     )\n\u001b[0;32m    225\u001b[0m \u001b[38;5;66;03m# Download the data with pooch which caches it automatically\u001b[39;00m\n\u001b[0;32m    226\u001b[0m _ensure_cache_dir(target_dir\u001b[38;5;241m=\u001b[39mcache_dir)\n",
      "\u001b[1;31mModuleNotFoundError\u001b[0m: The requested file is part of the scikit-image distribution, but requires the installation of an optional dependency, pooch. To install pooch, use your preferred python package manager. Follow installation instruction found at https://scikit-image.org/docs/stable/user_guide/install.html"
     ]
    }
   ],
   "source": [
    "import matplotlib.pyplot as plt\n",
    "\n",
    "from skimage.feature import hog\n",
    "from skimage import data, exposure\n",
    "\n",
    "\n",
    "image = data.astronaut()\n",
    "\n",
    "fd, hog_image = hog(\n",
    "    image,\n",
    "    orientations=8,\n",
    "    pixels_per_cell=(16, 16),\n",
    "    cells_per_block=(1, 1),\n",
    "    visualize=True,\n",
    "    channel_axis=-1,\n",
    ")\n",
    "\n",
    "fig, (ax1, ax2) = plt.subplots(1, 2, figsize=(8, 4), sharex=True, sharey=True)\n",
    "\n",
    "ax1.axis('off')\n",
    "ax1.imshow(image, cmap=plt.cm.gray)\n",
    "ax1.set_title('Input image')\n",
    "\n",
    "# Rescale histogram for better display\n",
    "hog_image_rescaled = exposure.rescale_intensity(hog_image, in_range=(0, 10))\n",
    "\n",
    "ax2.axis('off')\n",
    "ax2.imshow(hog_image_rescaled, cmap=plt.cm.gray)\n",
    "ax2.set_title('Histogram of Oriented Gradients')\n",
    "plt.show()\n",
    "print(fd.min())"
   ]
  },
  {
   "cell_type": "code",
   "execution_count": 118,
   "metadata": {},
   "outputs": [
    {
     "name": "stdout",
     "output_type": "stream",
     "text": [
      "<class 'numpy.ndarray'>\n"
     ]
    }
   ],
   "source": [
    "# print(padded_x_test.shape)\n",
    "# print(padded_x_train[59999])\n",
    "print(type(sobel_x_test_final))"
   ]
  },
  {
   "cell_type": "code",
   "execution_count": 217,
   "metadata": {},
   "outputs": [
    {
     "name": "stdout",
     "output_type": "stream",
     "text": [
      "6\n"
     ]
    },
    {
     "data": {
      "image/png": "[encoded data removed]",
      "text/plain": [
       "<Figure size 720x360 with 2 Axes>"
      ]
     },
     "metadata": {
      "needs_background": "light"
     },
     "output_type": "display_data"
    }
   ],
   "source": [
    "\n",
    "plt.figure(figsize=(10, 5))\n",
    "\n",
    "# First subplot for the original image\n",
    "plt.subplot(1, 2, 1)  # 1 row, 2 columns, first subplot\n",
    "plt.title('Original Image')\n",
    "plt.imshow(x_test[21], cmap='gray')\n",
    "plt.axis('off')  # Hide axis ticks\n",
    "\n",
    "# Second subplot for the Sobel image (or scaled result)\n",
    "plt.subplot(1, 2, 2)  # 1 row, 2 columns, second subplot\n",
    "plt.title('Sobel Image')\n",
    "plt.imshow(Laplacian_test[21], cmap='gray')\n",
    "plt.axis('off')  # Hide axis ticks\n",
    "print(y_test[21])\n",
    "# Show the plots\n",
    "plt.tight_layout()  # Adjust layout to prevent overlap\n",
    "plt.show()"
   ]
  }
 ],
 "metadata": {
  "kernelspec": {
   "display_name": "Python 3",
   "language": "python",
   "name": "python3"
  },
  "language_info": {
   "codemirror_mode": {
    "name": "ipython",
    "version": 3
   },
   "file_extension": ".py",
   "mimetype": "text/x-python",
   "name": "python",
   "nbconvert_exporter": "python",
   "pygments_lexer": "ipython3",
   "version": "3.10.2"
  }
 },
 "nbformat": 4,
 "nbformat_minor": 2
}
